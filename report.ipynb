{
 "cells": [
  {
   "cell_type": "code",
   "execution_count": 6,
   "metadata": {},
   "outputs": [
    {
     "name": "stdout",
     "output_type": "stream",
     "text": [
      "+----------+--------------------------------+-------------------------------+----------------+---------------------+-------------------+\n",
      "|   Name   | Crack/Dirt Eggs GoodConditions | Crack/Dirt Eggs BadConditions | Eggs with yolk | Eggs with bloodspot |     Date/Time     |\n",
      "+----------+--------------------------------+-------------------------------+----------------+---------------------+-------------------+\n",
      "| Danielle |               28               |               2               |       30       |          0          | 2/16/2019 11:25pm |\n",
      "| Danielle |               28               |               2               |       30       |          0          | 2/16/2019 11:28pm |\n",
      "| Danielle |               27               |               3               |       30       |          0          | 2/16/2019 11:29pm |\n",
      "| Danielle |               27               |               3               |       30       |          0          | 2/16/2019 11:33pm |\n",
      "| Danielle |               27               |               27              |       30       |          0          |  3/6/2019 2:00pm  |\n",
      "+----------+--------------------------------+-------------------------------+----------------+---------------------+-------------------+\n"
     ]
    }
   ],
   "source": [
    "from prettytable import PrettyTable\n",
    "from prettytable import from_csv\n",
    "\n",
    "name = ['Danielle','Danielle','Danielle','Danielle','Danielle']\n",
    "ExtG = ['28','28','27','27','27']\n",
    "ExtB = ['2','2','3','3','27']\n",
    "IntY = ['30','30','30','30','30']\n",
    "IntBl = ['0','0','0','0','0']\n",
    "DateTime = ['2/16/2019 11:25pm','2/16/2019 11:28pm','2/16/2019 11:29pm','2/16/2019 11:33pm','3/6/2019 2:00pm']\n",
    "\n",
    "table = PrettyTable(['Name','Crack/Dirt Eggs GoodConditions','Crack/Dirt Eggs BadConditions','Eggs with yolk','Eggs with bloodspot','Date/Time'])\n",
    "for x in range(0,5):\n",
    "    table.add_row([name[x],ExtG[x],ExtB[x],IntY[x],IntBl[x],DateTime[x]])\n",
    "\n",
    "print(table)\n",
    "\n",
    "    "
   ]
  },
  {
   "cell_type": "code",
   "execution_count": null,
   "metadata": {},
   "outputs": [],
   "source": []
  }
 ],
 "metadata": {
  "kernelspec": {
   "display_name": "Python 3",
   "language": "python",
   "name": "python3"
  },
  "language_info": {
   "codemirror_mode": {
    "name": "ipython",
    "version": 3
   },
   "file_extension": ".py",
   "mimetype": "text/x-python",
   "name": "python",
   "nbconvert_exporter": "python",
   "pygments_lexer": "ipython3",
   "version": "3.7.2"
  }
 },
 "nbformat": 4,
 "nbformat_minor": 2
}
